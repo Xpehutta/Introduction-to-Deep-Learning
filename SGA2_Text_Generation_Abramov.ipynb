{
  "nbformat": 4,
  "nbformat_minor": 0,
  "metadata": {
    "kernelspec": {
      "display_name": "Python [default]",
      "language": "python",
      "name": "python3"
    },
    "language_info": {
      "codemirror_mode": {
        "name": "ipython",
        "version": 3
      },
      "file_extension": ".py",
      "mimetype": "text/x-python",
      "name": "python",
      "nbconvert_exporter": "python",
      "pygments_lexer": "ipython3",
      "version": "3.6.4"
    },
    "colab": {
      "name": "SGA2_Text Generation.ipynb",
      "provenance": [],
      "collapsed_sections": []
    },
    "accelerator": "GPU"
  },
  "cells": [
    {
      "cell_type": "markdown",
      "metadata": {
        "id": "1Oiu5Fabu3ue"
      },
      "source": [
        "# Text Generation\n",
        "## Character-Level LSTM in PyTorch"
      ]
    },
    {
      "cell_type": "markdown",
      "metadata": {
        "id": "1W8R8WgZceEk"
      },
      "source": [
        "In this assignment, you will train a Reccurent Neural Network to generate a text one character at the time. The task is divided into steps for simpler navigation.\n",
        "\n",
        "Let's start!"
      ]
    },
    {
      "cell_type": "code",
      "metadata": {
        "id": "sqUOE2flceEl"
      },
      "source": [
        "import numpy as np\n",
        "import torch\n",
        "from torch import nn\n",
        "import torch.nn.functional as F"
      ],
      "execution_count": 1,
      "outputs": []
    },
    {
      "cell_type": "markdown",
      "metadata": {
        "id": "-JY1C-COvVRb"
      },
      "source": [
        "##Step 0. Data"
      ]
    },
    {
      "cell_type": "markdown",
      "metadata": {
        "id": "_wHfCDyzceEl"
      },
      "source": [
        "As training data, we will use \"War and Peace\" by Leo Tolstoy. The book in plain text format can be downloaded from [Project Gutenberg website ](https://www.gutenberg.org/ebooks/2600).\n",
        "\n",
        "Download and load data."
      ]
    },
    {
      "cell_type": "code",
      "metadata": {
        "id": "CnskyXUl4K3I"
      },
      "source": [
        "# open text file and read in data as `text`\n",
        "with open('2600-0.txt', 'r') as f:\n",
        "    text = f.read()"
      ],
      "execution_count": 2,
      "outputs": []
    },
    {
      "cell_type": "markdown",
      "metadata": {
        "id": "Jp1Ljc4mceEl"
      },
      "source": [
        "Let's view the first 100 symbols:"
      ]
    },
    {
      "cell_type": "code",
      "metadata": {
        "colab": {
          "base_uri": "https://localhost:8080/",
          "height": 37
        },
        "id": "NUb_mCJS5W5i",
        "outputId": "40384ea0-f2eb-40c5-a7b8-2a9e3b1bce38"
      },
      "source": [
        "text[:100]"
      ],
      "execution_count": 3,
      "outputs": [
        {
          "output_type": "execute_result",
          "data": {
            "text/plain": [
              "'\\ufeffThe Project Gutenberg eBook of War and Peace, by Leo Tolstoy\\n\\nThis eBook is for the use of anyone a'"
            ],
            "application/vnd.google.colaboratory.intrinsic+json": {
              "type": "string"
            }
          },
          "metadata": {},
          "execution_count": 3
        }
      ]
    },
    {
      "cell_type": "markdown",
      "metadata": {
        "id": "O4TwJP8f5eOt"
      },
      "source": [
        "The book starts at `7277`:"
      ]
    },
    {
      "cell_type": "code",
      "metadata": {
        "id": "7VctmLQfceEl",
        "colab": {
          "base_uri": "https://localhost:8080/",
          "height": 54
        },
        "outputId": "125b4832-3a48-47ea-b3de-533a69fee7c9"
      },
      "source": [
        "text[7277:7500]"
      ],
      "execution_count": 4,
      "outputs": [
        {
          "output_type": "execute_result",
          "data": {
            "text/plain": [
              "'TER II\\n\\n    CHAPTER III\\n\\n    CHAPTER IV\\n\\n    CHAPTER V\\n\\n    CHAPTER VI\\n\\n    CHAPTER VII\\n\\n    CHAPTER VIII\\n\\n    CHAPTER IX\\n\\n    CHAPTER X\\n\\n    CHAPTER XI\\n\\n    CHAPTER XII\\n\\n\\n\\n\\n\\n\\n\\n\\n\\n\\nBOOK ONE: 1805\\n\\n\\n\\n\\n\\nCHAPTER I\\n\\n“Well, Princ'"
            ],
            "application/vnd.google.colaboratory.intrinsic+json": {
              "type": "string"
            }
          },
          "metadata": {},
          "execution_count": 4
        }
      ]
    },
    {
      "cell_type": "markdown",
      "metadata": {
        "id": "6iG2vAfmwhWN"
      },
      "source": [
        "##Step 1. Tokenization (15 points)"
      ]
    },
    {
      "cell_type": "markdown",
      "metadata": {
        "id": "4iC21bopceEl"
      },
      "source": [
        "Now let's create dictionaries for converting characters to integers and vice versa. This makes it easier to use symbols as input on the neural network."
      ]
    },
    {
      "cell_type": "code",
      "metadata": {
        "id": "tYVlmnxLceEl"
      },
      "source": [
        "# Create two dictionaries:\n",
        "# int2char -- maps integers to characters\n",
        "# char2int -- maps characters to unique integers\n",
        "\n",
        "## YOUR CODE HERE\n",
        "int2char = dict(enumerate(tuple(set(text))))\n",
        "char2int = {v: k for k, v in int2char.items()}\n",
        "\n",
        "# encode the text\n",
        "encoded = np.array([char2int[ch] for ch in text])"
      ],
      "execution_count": 5,
      "outputs": []
    },
    {
      "cell_type": "markdown",
      "metadata": {
        "id": "oJIzwzSwceEl"
      },
      "source": [
        "Let's see how the encoding of characters into integers looks like"
      ]
    },
    {
      "cell_type": "code",
      "metadata": {
        "id": "WK1MYr_9ceEl",
        "colab": {
          "base_uri": "https://localhost:8080/"
        },
        "outputId": "70255e19-2546-48b0-8c0b-5ab77f46fdd3"
      },
      "source": [
        "encoded[:100]"
      ],
      "execution_count": 6,
      "outputs": [
        {
          "output_type": "execute_result",
          "data": {
            "text/plain": [
              "array([105,   7,  94,  80,  89,  81,  76,  36, 111,  80,  91,  72,  89,\n",
              "        46,  74,  72,  80,  77,  58,  80,  76, 101,  89,  80,   3,  36,\n",
              "        36,  45,  89,  36,  86,  89,  93,  13,  76,  89,  13,  77,  65,\n",
              "        89,  81,  80,  13,  91,  80,  52,  89,  58,  57,  89,  17,  80,\n",
              "        36,  89,   7,  36,  67,  42,  72,  36,  57,  48,  48,   7,  94,\n",
              "        56,  42,  89,  80,   3,  36,  36,  45,  89,  56,  42,  89,  86,\n",
              "        36,  76,  89,  72,  94,  80,  89,  74,  42,  80,  89,  36,  86,\n",
              "        89,  13,  77,  57,  36,  77,  80,  89,  13])"
            ]
          },
          "metadata": {},
          "execution_count": 6
        }
      ]
    },
    {
      "cell_type": "markdown",
      "metadata": {
        "id": "VEzrUe5Qyjz8"
      },
      "source": [
        "##Step 2. One-hot encoding (15 points)"
      ]
    },
    {
      "cell_type": "markdown",
      "metadata": {
        "id": "azltQy-gceEl"
      },
      "source": [
        "LSTM expects one-hot encoded input, which means that each character is converted to an integer (via our created dictionary) and then converted to a vector, where a value 1 will be only on a corresponding position and the rest of the vector will be filled with zeros.\n",
        "\n",
        "Implement a function that does this kind of coding.\n"
      ]
    },
    {
      "cell_type": "code",
      "metadata": {
        "id": "OnahALhiceEl"
      },
      "source": [
        "def one_hot_encode(arr, n_labels):\n",
        "    \n",
        "    # arr - array of integers\n",
        "    # n_labels - number of labels (the size of a one-hot-encoded vector)\n",
        "\n",
        "    ## YOUR CODE HERE\n",
        "\n",
        "    one_hot = np.eye(n_labels, dtype = np.float32)[arr]\n",
        "\n",
        "    return one_hot"
      ],
      "execution_count": 31,
      "outputs": []
    },
    {
      "cell_type": "code",
      "metadata": {
        "id": "L3lTdLKfceEl",
        "colab": {
          "base_uri": "https://localhost:8080/"
        },
        "outputId": "e4bd7738-dfdc-421e-aa93-2c82d3f36f07"
      },
      "source": [
        "# check that the function works correctly\n",
        "test_indx = np.array([[7, 2, 5]])\n",
        "one_hot = one_hot_encode(test_indx, 8)\n",
        "\n",
        "print(one_hot)"
      ],
      "execution_count": 32,
      "outputs": [
        {
          "output_type": "stream",
          "name": "stdout",
          "text": [
            "[[[0. 0. 0. 0. 0. 0. 0. 1.]\n",
            "  [0. 0. 1. 0. 0. 0. 0. 0.]\n",
            "  [0. 0. 0. 0. 0. 1. 0. 0.]]]\n"
          ]
        }
      ]
    },
    {
      "cell_type": "markdown",
      "metadata": {
        "id": "G7qAGC8R0lF1"
      },
      "source": [
        "The output must be\n",
        "\n",
        "```\n",
        "[[[0. 0. 0. 0. 0. 0. 0. 1.]\n",
        "  [0. 0. 1. 0. 0. 0. 0. 0.]\n",
        "  [0. 0. 0. 0. 0. 1. 0. 0.]]]\n",
        "```"
      ]
    },
    {
      "cell_type": "markdown",
      "metadata": {
        "id": "_Qxw5Dg41HAO"
      },
      "source": [
        "##Step 3. Mini-batches (20 points)"
      ]
    },
    {
      "cell_type": "markdown",
      "metadata": {
        "id": "50zKx6pM43RB"
      },
      "source": [
        "To train the neural network, we will organize mini-batches as follows: divide the entire input sequence 'arr' by the desired number of subsequences (parameter `batch_size`), and send a sequence of length `seq_length` to the input of the network."
      ]
    },
    {
      "cell_type": "markdown",
      "metadata": {
        "id": "9YyL91CuceEl"
      },
      "source": [
        "<img src=\"https://github.com/udacity/deep-learning-v2-pytorch/blob/master/recurrent-neural-networks/char-rnn/assets/sequence_batching@1x.png?raw=1\" width=500px>\n"
      ]
    },
    {
      "cell_type": "markdown",
      "metadata": {
        "id": "xzTSxOr37JyR"
      },
      "source": [
        "### How to create mini-batches\n",
        "\n",
        "\n",
        "1.   Find the total number of batches `n_batches` that fit the text.\n",
        "2.   Discard all unnecessary text that does not fit into full batches.\n",
        "3.   Split text into `n_batches` batches'.\n",
        "4.   Get `x's` and `y`'s for a batch. Therefore, `y` is a version of `x` shifted by 1.\n",
        "\n"
      ]
    },
    {
      "cell_type": "code",
      "metadata": {
        "id": "8vmDKLiOceEl"
      },
      "source": [
        "def get_batches(arr, batch_size, seq_length):\n",
        "    # Create a generator that returns batches of size batch_size x seq_length\n",
        "    \n",
        "    batch_size_total = batch_size * seq_length\n",
        "    ## Get the number of batches we can make\n",
        "    n_batches = len(arr)//batch_size_total ## YOUR CODE HERE\n",
        "    \n",
        "    ## Keep only enough characters to make full batches\n",
        "    arr = arr[:n_batches * batch_size_total] ## YOUR CODE HERE\n",
        "    \n",
        "    ## Reshape into batch_size rows\n",
        "    arr = arr.reshape((batch_size, -1)) ## YOUR CODE HERE\n",
        "    \n",
        "    ## Iterate over the batches using a window of size seq_length\n",
        "    for n in range(0, arr.shape[1], seq_length):\n",
        "        # The features\n",
        "        x = arr[:, n : n + seq_length]\n",
        "        # The targets, shifted by one\n",
        "        y = arr[:, n+ 1 : n + seq_length+1] \n",
        "        \n",
        "        if x.shape != y.shape:\n",
        "            y = np.concatenate((y, x[:,0].reshape(batch_size,1)), axis=1)\n",
        "\n",
        "        yield x, y"
      ],
      "execution_count": 9,
      "outputs": []
    },
    {
      "cell_type": "markdown",
      "metadata": {
        "id": "s9uKOvbqceEl"
      },
      "source": [
        "Let's check how our function works."
      ]
    },
    {
      "cell_type": "code",
      "metadata": {
        "id": "qtKlLXi1ceEl"
      },
      "source": [
        "batches = get_batches(encoded, 4, 30)\n",
        "x, y = next(batches)"
      ],
      "execution_count": 10,
      "outputs": []
    },
    {
      "cell_type": "code",
      "metadata": {
        "id": "Rg5MUTqqceEl",
        "colab": {
          "base_uri": "https://localhost:8080/"
        },
        "outputId": "c391631c-1441-4615-b383-454f249f89e5"
      },
      "source": [
        "# printing out the first 10 items in a sequence\n",
        "print('x\\n', x[:10, :10])\n",
        "print('\\ny\\n', y[:10, :10])"
      ],
      "execution_count": 11,
      "outputs": [
        {
          "output_type": "stream",
          "name": "stdout",
          "text": [
            "x\n",
            " [[105   7  94  80  89  81  76  36 111  80]\n",
            " [ 76  95  42  48  94  80  13  67  72  94]\n",
            " [ 58  80  76  56  77 101  89  94  56  42]\n",
            " [ 13  77  65  67  80  89 108  56  72  94]]\n",
            "\n",
            "y\n",
            " [[  7  94  80  89  81  76  36 111  80  91]\n",
            " [ 95  42  48  94  80  13  67  72  94  89]\n",
            " [ 80  76  56  77 101  89  94  56  42  89]\n",
            " [ 77  65  67  80  89 108  56  72  94  89]]\n"
          ]
        }
      ]
    },
    {
      "cell_type": "markdown",
      "metadata": {
        "id": "R_qHIAEIceEl"
      },
      "source": [
        "If you've implemented get_batches correctly, the result should look something like this (exact numbers may vary):\n",
        "```\n",
        "x\n",
        " [[ 48  94  12 110  32  96 107  34  18 106]\n",
        " [ 96  78   1  69  32  34  18  34  27   3]\n",
        " [  3  96   0  18  96  86  18 100  34  96]\n",
        " [ 32  96 110  42 101  96   0  18  19  96]]\n",
        "\n",
        "y\n",
        " [[ 94  12 110  32  96 107  34  18 106  32]\n",
        " [ 78   1  69  32  34  18  34  27   3  94]\n",
        " [ 96   0  18  96  86  18 100  34  96   1]\n",
        " [ 96 110  42 101  96   0  18  19  96   3]]\n",
        " ```\n",
        "Make sure the data is shifted one step for `y`."
      ]
    },
    {
      "cell_type": "markdown",
      "metadata": {
        "id": "tholjONVAJUa"
      },
      "source": [
        "##Step 4. Defining the network (40 points)"
      ]
    },
    {
      "cell_type": "markdown",
      "metadata": {
        "id": "E7s5eRaoceEl"
      },
      "source": [
        "### Model Architecture\n",
        "\n",
        "The proposed architecture is as follows:\n",
        "\n",
        "* Define an [LSTM layer](https://pytorch.org/docs/stable/generated/torch.nn.LSTM.html#torch.nn.LSTM) with `dropout=drop_prob` and `batch_first=True` (since we use batches)\n",
        "* Define a [Dropout layer](https://pytorch.org/docs/stable/generated/torch.nn.Dropout.html#torch.nn.Dropout) with `drop_prob`.\n",
        "* Define a [Linear layer](https://pytorch.org/docs/stable/generated/torch.nn.Linear.html#torch.nn.Linear) with `in_features=n_hidden` and `out_features` equals to number of characters."
      ]
    },
    {
      "cell_type": "code",
      "metadata": {
        "id": "HlTnDntHceEl",
        "colab": {
          "base_uri": "https://localhost:8080/"
        },
        "outputId": "35a8be82-7240-4384-b2c4-bde066e203a2"
      },
      "source": [
        "# check if GPU is available\n",
        "train_on_gpu = torch.cuda.is_available()\n",
        "if(train_on_gpu):\n",
        "    print('Training on GPU')\n",
        "else: \n",
        "    print('No GPU available, training on CPU; consider making n_epochs very small.')"
      ],
      "execution_count": 12,
      "outputs": [
        {
          "output_type": "stream",
          "name": "stdout",
          "text": [
            "Training on GPU\n"
          ]
        }
      ]
    },
    {
      "cell_type": "code",
      "metadata": {
        "id": "lg-SvaGhceEl"
      },
      "source": [
        "class CharRNN(nn.Module):\n",
        "    \n",
        "    def __init__(self, tokens, n_hidden=256, n_layers=2,\n",
        "                               drop_prob=0.5, lr=0.001):\n",
        "        super().__init__()\n",
        "        self.drop_prob = drop_prob\n",
        "        self.n_layers = n_layers\n",
        "        self.n_hidden = n_hidden\n",
        "        self.lr = lr\n",
        "        \n",
        "        # creating character dictionaries\n",
        "        self.chars = tokens\n",
        "        self.int2char = dict(enumerate(self.chars))\n",
        "        self.char2int = {ch: ii for ii, ch in self.int2char.items()}\n",
        "        \n",
        "        # Define the LSTM layer\n",
        "        ## YOUR CODE HERE\n",
        "        self.lstm = nn.LSTM(len(self.chars)\n",
        "                          , n_hidden\n",
        "                          , n_layers\n",
        "                          , dropout=drop_prob\n",
        "                          , batch_first=True\n",
        "                          )\n",
        "\n",
        "\n",
        "        # Define a dropout layer\n",
        "        ## YOUR CODE HERE\n",
        "        self.dropout = nn.Dropout(drop_prob)\n",
        "\n",
        "        # Define the final, fully-connected output layer\n",
        "        ## YOUR CODE HERE\n",
        "        self.linear = nn.Linear(n_hidden, len(self.chars))\n",
        "      \n",
        "    \n",
        "    def forward(self, x, hidden):\n",
        "        ''' Forward pass through the network. \n",
        "            These inputs are x, and the hidden/cell state `hidden`. '''\n",
        "                \n",
        "        # Get the outputs and the new hidden state from the lstm\n",
        "        ## YOUR CODE HERE\n",
        "        out, hidden = self.lstm(x, hidden)\n",
        "\n",
        "        # Pass through a dropout layer\n",
        "        ## YOUR CODE HERE\n",
        "        out = self.dropout(out)\n",
        "\n",
        "        # Stack up LSTM outputs using view\n",
        "        # you may need to use contiguous to reshape the output\n",
        "        ## YOUR CODE HERE\n",
        "        out = out.contiguous().view(-1, self.n_hidden)\n",
        "\n",
        "        # Put x through the fully-connected layer\n",
        "        ## YOUR CODE HERE\n",
        "        out = self.linear(out)\n",
        "\n",
        "        # return the final output and the hidden state\n",
        "        return out, hidden\n",
        "    \n",
        "    \n",
        "    def init_hidden(self, batch_size):\n",
        "        ''' Initializes hidden state '''\n",
        "        # Create two new tensors with sizes n_layers x batch_size x n_hidden,\n",
        "        # initialized to zero, for hidden state and cell state of LSTM\n",
        "        weight = next(self.parameters()).data\n",
        "        \n",
        "        if (train_on_gpu):\n",
        "            hidden = (weight.new(self.n_layers, batch_size, self.n_hidden).zero_().cuda(),\n",
        "                  weight.new(self.n_layers, batch_size, self.n_hidden).zero_().cuda())\n",
        "        else:\n",
        "            hidden = (weight.new(self.n_layers, batch_size, self.n_hidden).zero_(),\n",
        "                      weight.new(self.n_layers, batch_size, self.n_hidden).zero_())\n",
        "        \n",
        "        return hidden\n",
        "        "
      ],
      "execution_count": 13,
      "outputs": []
    },
    {
      "cell_type": "markdown",
      "metadata": {
        "id": "VPX7bf08EipB"
      },
      "source": [
        "##Step 5. Train the model (10 points)"
      ]
    },
    {
      "cell_type": "markdown",
      "metadata": {
        "id": "zBgcPj1mGOZN"
      },
      "source": [
        "We use Cross Entropy as a loss function, Adam as optimizer, and [`clip_grad_norm_`](https://pytorch.org/docs/stable/_modules/torch/nn/utils/clip_grad.html) to get rid of the gradient explosion."
      ]
    },
    {
      "cell_type": "code",
      "metadata": {
        "id": "lv8VkRI0ceEl"
      },
      "source": [
        "from tqdm import tqdm\n",
        "\n",
        "def train(net, data, epochs=10, batch_size=10, seq_length=50, lr=0.001, clip=5, val_frac=0.1, print_every=10):\n",
        "    ''' Training a network \n",
        "    \n",
        "        Arguments\n",
        "        ---------\n",
        "        lr: learning rate\n",
        "        clip: gradient clipping\n",
        "        val_frac: Fraction of data to hold out for validation\n",
        "        print_every: Number of steps for printing training and validation loss\n",
        "    \n",
        "    '''\n",
        "    net.train()\n",
        "    \n",
        "    opt = torch.optim.Adam(net.parameters(), lr=lr)\n",
        "    criterion = nn.CrossEntropyLoss()\n",
        "    \n",
        "    # create training and validation data\n",
        "    val_idx = int(len(data)*(1-val_frac))\n",
        "    data, val_data = data[:val_idx], data[val_idx:]\n",
        "    \n",
        "    if(train_on_gpu):\n",
        "        net.cuda()\n",
        "    \n",
        "    counter = 0\n",
        "    n_chars = len(net.chars)\n",
        "    for e in range(epochs):\n",
        "        # initialize hidden state\n",
        "        h = net.init_hidden(batch_size)\n",
        "        \n",
        "        for x, y in get_batches(data, batch_size, seq_length):\n",
        "            counter += 1\n",
        "            \n",
        "            # One-hot encode our data and make them Torch tensors\n",
        "            x = one_hot_encode(x, n_chars)\n",
        "            inputs, targets = torch.from_numpy(x), torch.from_numpy(y) #.float()\n",
        "            \n",
        "            if(train_on_gpu):\n",
        "                inputs, targets = inputs.cuda(), targets.cuda()\n",
        "\n",
        "            # Creating new variables for the hidden state, otherwise\n",
        "            # we'd backprop through the entire training history\n",
        "            h = tuple([each.data for each in h])\n",
        "\n",
        "            net.zero_grad()\n",
        "            \n",
        "            output, h = net(inputs, h)\n",
        "            \n",
        "            loss = criterion(output, targets.view(batch_size*seq_length).long())\n",
        "            loss.backward()\n",
        "\n",
        "            # `clip_grad_norm` helps prevent the exploding gradient problem in RNNs\n",
        "            nn.utils.clip_grad_norm_(net.parameters(), clip)\n",
        "            opt.step()\n",
        "            \n",
        "            # loss stats\n",
        "            if counter % print_every == 0:\n",
        "                # Get validation loss\n",
        "                val_h = net.init_hidden(batch_size)\n",
        "                val_losses = []\n",
        "                net.eval()\n",
        "                for x, y in get_batches(val_data, batch_size, seq_length):\n",
        "                    # One-hot encode our data and make them Torch tensors\n",
        "                    x = one_hot_encode(x, n_chars)\n",
        "                    x, y = torch.from_numpy(x), torch.from_numpy(y) #.float()\n",
        "                    \n",
        "                    # Creating new variables for the hidden state, otherwise\n",
        "                    # we'd backprop through the entire training history\n",
        "                    val_h = tuple([each.data for each in val_h])\n",
        "                    \n",
        "                    inputs, targets = x, y\n",
        "                    if(train_on_gpu):\n",
        "                        inputs, targets = inputs.cuda(), targets.cuda()\n",
        "\n",
        "                    output, val_h = net(inputs, val_h)\n",
        "                    val_loss = criterion(output, targets.view(batch_size*seq_length).long())\n",
        "                \n",
        "                    val_losses.append(val_loss.item())\n",
        "                \n",
        "                net.train() # reset to train mode after iterationg through validation data\n",
        "                \n",
        "                print(\"Epoch: {}/{}...\".format(e+1, epochs),\n",
        "                      \"Step: {}...\".format(counter),\n",
        "                      \"Loss: {:.4f}...\".format(loss.item()),\n",
        "                      \"Val Loss: {:.4f}\".format(np.mean(val_losses)))"
      ],
      "execution_count": 24,
      "outputs": []
    },
    {
      "cell_type": "markdown",
      "metadata": {
        "id": "Gt0q4KGEceEm"
      },
      "source": [
        "Initialize the model and set hyperparameters."
      ]
    },
    {
      "cell_type": "code",
      "metadata": {
        "id": "OOgs59nDceEm",
        "colab": {
          "base_uri": "https://localhost:8080/"
        },
        "outputId": "4af22bc6-2adb-487d-efb0-8944cffa61ea"
      },
      "source": [
        "# Set your model hyperparameters\n",
        "\n",
        "n_hidden = 2000 ## YOUR CODE HERE\n",
        "n_layers = 2 ## YOUR CODE HERE\n",
        "chars = tuple(set(text))\n",
        "\n",
        "net = CharRNN(chars, n_hidden, n_layers)\n",
        "print(net)"
      ],
      "execution_count": 43,
      "outputs": [
        {
          "output_type": "stream",
          "name": "stdout",
          "text": [
            "CharRNN(\n",
            "  (lstm): LSTM(112, 2022, num_layers=2, batch_first=True, dropout=0.5)\n",
            "  (dropout): Dropout(p=0.5, inplace=False)\n",
            "  (linear): Linear(in_features=2022, out_features=112, bias=True)\n",
            ")\n"
          ]
        }
      ]
    },
    {
      "cell_type": "markdown",
      "metadata": {
        "id": "XHy6mECuceEm"
      },
      "source": [
        "Set training hyperparameters."
      ]
    },
    {
      "cell_type": "code",
      "metadata": {
        "scrolled": true,
        "id": "ABqi9klKceEm",
        "colab": {
          "base_uri": "https://localhost:8080/"
        },
        "outputId": "c06cd662-86bc-4263-94ad-a0dd5b4b7d8f"
      },
      "source": [
        "batch_size = 300 ## YOUR CODE HERE\n",
        "seq_length = 50 ## YOUR CODE HERE\n",
        "# start small if you are just testing initial behavior\n",
        "n_epochs = 10 ## YOUR CODE HERE\n",
        "\n",
        "# train the model\n",
        "train(net, encoded, epochs=n_epochs, batch_size=batch_size, seq_length=seq_length, lr=0.001, print_every=10)"
      ],
      "execution_count": 44,
      "outputs": [
        {
          "output_type": "stream",
          "name": "stdout",
          "text": [
            "Epoch: 1/10... Step: 10... Loss: 3.1606... Val Loss: 3.1194\n",
            "Epoch: 1/10... Step: 20... Loss: 3.1381... Val Loss: 3.0922\n",
            "Epoch: 1/10... Step: 30... Loss: 3.1062... Val Loss: 3.0782\n",
            "Epoch: 1/10... Step: 40... Loss: 3.1893... Val Loss: 3.0397\n",
            "Epoch: 1/10... Step: 50... Loss: 3.0518... Val Loss: 2.9749\n",
            "Epoch: 1/10... Step: 60... Loss: 3.0367... Val Loss: 2.9815\n",
            "Epoch: 1/10... Step: 70... Loss: 2.9645... Val Loss: 2.9327\n",
            "Epoch: 1/10... Step: 80... Loss: 2.8581... Val Loss: 2.8281\n",
            "Epoch: 1/10... Step: 90... Loss: 2.7696... Val Loss: 2.7297\n",
            "Epoch: 1/10... Step: 100... Loss: 2.6512... Val Loss: 2.5897\n",
            "Epoch: 1/10... Step: 110... Loss: 2.5666... Val Loss: 2.5069\n",
            "Epoch: 1/10... Step: 120... Loss: 2.4827... Val Loss: 2.4460\n",
            "Epoch: 1/10... Step: 130... Loss: 2.4059... Val Loss: 2.3896\n",
            "Epoch: 1/10... Step: 140... Loss: 2.4013... Val Loss: 2.3398\n",
            "Epoch: 1/10... Step: 150... Loss: 2.3218... Val Loss: 2.2959\n",
            "Epoch: 1/10... Step: 160... Loss: 2.3136... Val Loss: 2.2743\n",
            "Epoch: 1/10... Step: 170... Loss: 2.2515... Val Loss: 2.2126\n",
            "Epoch: 1/10... Step: 180... Loss: 2.1814... Val Loss: 2.1711\n",
            "Epoch: 1/10... Step: 190... Loss: 2.1684... Val Loss: 2.1276\n",
            "Epoch: 2/10... Step: 200... Loss: 2.1034... Val Loss: 2.0917\n",
            "Epoch: 2/10... Step: 210... Loss: 2.0795... Val Loss: 2.0489\n",
            "Epoch: 2/10... Step: 220... Loss: 2.0472... Val Loss: 2.0166\n",
            "Epoch: 2/10... Step: 230... Loss: 2.0103... Val Loss: 1.9791\n",
            "Epoch: 2/10... Step: 240... Loss: 1.9672... Val Loss: 1.9458\n",
            "Epoch: 2/10... Step: 250... Loss: 1.9251... Val Loss: 1.9179\n",
            "Epoch: 2/10... Step: 260... Loss: 1.9126... Val Loss: 1.8830\n",
            "Epoch: 2/10... Step: 270... Loss: 1.8737... Val Loss: 1.8575\n",
            "Epoch: 2/10... Step: 280... Loss: 1.8729... Val Loss: 1.8234\n",
            "Epoch: 2/10... Step: 290... Loss: 1.8120... Val Loss: 1.7975\n",
            "Epoch: 2/10... Step: 300... Loss: 1.7802... Val Loss: 1.7655\n",
            "Epoch: 2/10... Step: 310... Loss: 1.7252... Val Loss: 1.7443\n",
            "Epoch: 2/10... Step: 320... Loss: 1.7500... Val Loss: 1.7209\n",
            "Epoch: 2/10... Step: 330... Loss: 1.7251... Val Loss: 1.6961\n",
            "Epoch: 2/10... Step: 340... Loss: 1.6780... Val Loss: 1.6729\n",
            "Epoch: 2/10... Step: 350... Loss: 1.6635... Val Loss: 1.6525\n",
            "Epoch: 2/10... Step: 360... Loss: 1.6294... Val Loss: 1.6351\n",
            "Epoch: 2/10... Step: 370... Loss: 1.6364... Val Loss: 1.6191\n",
            "Epoch: 2/10... Step: 380... Loss: 1.6172... Val Loss: 1.5918\n",
            "Epoch: 3/10... Step: 390... Loss: 1.5624... Val Loss: 1.5818\n",
            "Epoch: 3/10... Step: 400... Loss: 1.5718... Val Loss: 1.5557\n",
            "Epoch: 3/10... Step: 410... Loss: 1.5341... Val Loss: 1.5481\n",
            "Epoch: 3/10... Step: 420... Loss: 1.5647... Val Loss: 1.5296\n",
            "Epoch: 3/10... Step: 430... Loss: 1.5163... Val Loss: 1.5151\n",
            "Epoch: 3/10... Step: 440... Loss: 1.4737... Val Loss: 1.4995\n",
            "Epoch: 3/10... Step: 450... Loss: 1.4947... Val Loss: 1.4879\n",
            "Epoch: 3/10... Step: 460... Loss: 1.4765... Val Loss: 1.4779\n",
            "Epoch: 3/10... Step: 470... Loss: 1.4733... Val Loss: 1.4699\n",
            "Epoch: 3/10... Step: 480... Loss: 1.4446... Val Loss: 1.4625\n",
            "Epoch: 3/10... Step: 490... Loss: 1.4298... Val Loss: 1.4466\n",
            "Epoch: 3/10... Step: 500... Loss: 1.4408... Val Loss: 1.4394\n",
            "Epoch: 3/10... Step: 510... Loss: 1.4641... Val Loss: 1.4355\n",
            "Epoch: 3/10... Step: 520... Loss: 1.4149... Val Loss: 1.4234\n",
            "Epoch: 3/10... Step: 530... Loss: 1.4322... Val Loss: 1.4185\n",
            "Epoch: 3/10... Step: 540... Loss: 1.4082... Val Loss: 1.4139\n",
            "Epoch: 3/10... Step: 550... Loss: 1.3824... Val Loss: 1.4034\n",
            "Epoch: 3/10... Step: 560... Loss: 1.3745... Val Loss: 1.3998\n",
            "Epoch: 3/10... Step: 570... Loss: 1.3693... Val Loss: 1.3906\n",
            "Epoch: 4/10... Step: 580... Loss: 1.4825... Val Loss: 1.3875\n",
            "Epoch: 4/10... Step: 590... Loss: 1.3678... Val Loss: 1.3812\n",
            "Epoch: 4/10... Step: 600... Loss: 1.3684... Val Loss: 1.3723\n",
            "Epoch: 4/10... Step: 610... Loss: 1.3446... Val Loss: 1.3654\n",
            "Epoch: 4/10... Step: 620... Loss: 1.3420... Val Loss: 1.3582\n",
            "Epoch: 4/10... Step: 630... Loss: 1.3560... Val Loss: 1.3551\n",
            "Epoch: 4/10... Step: 640... Loss: 1.3833... Val Loss: 1.3546\n",
            "Epoch: 4/10... Step: 650... Loss: 1.3389... Val Loss: 1.3474\n",
            "Epoch: 4/10... Step: 660... Loss: 1.3407... Val Loss: 1.3464\n",
            "Epoch: 4/10... Step: 670... Loss: 1.3000... Val Loss: 1.3370\n",
            "Epoch: 4/10... Step: 680... Loss: 1.2986... Val Loss: 1.3336\n",
            "Epoch: 4/10... Step: 690... Loss: 1.3195... Val Loss: 1.3359\n",
            "Epoch: 4/10... Step: 700... Loss: 1.2985... Val Loss: 1.3330\n",
            "Epoch: 4/10... Step: 710... Loss: 1.2968... Val Loss: 1.3253\n",
            "Epoch: 4/10... Step: 720... Loss: 1.3187... Val Loss: 1.3228\n",
            "Epoch: 4/10... Step: 730... Loss: 1.3072... Val Loss: 1.3273\n",
            "Epoch: 4/10... Step: 740... Loss: 1.3046... Val Loss: 1.3198\n",
            "Epoch: 4/10... Step: 750... Loss: 1.2628... Val Loss: 1.3178\n",
            "Epoch: 4/10... Step: 760... Loss: 1.2989... Val Loss: 1.3111\n",
            "Epoch: 4/10... Step: 770... Loss: 1.2920... Val Loss: 1.3101\n",
            "Epoch: 5/10... Step: 780... Loss: 1.3091... Val Loss: 1.3042\n",
            "Epoch: 5/10... Step: 790... Loss: 1.2492... Val Loss: 1.3014\n",
            "Epoch: 5/10... Step: 800... Loss: 1.2497... Val Loss: 1.3005\n",
            "Epoch: 5/10... Step: 810... Loss: 1.2422... Val Loss: 1.2926\n",
            "Epoch: 5/10... Step: 820... Loss: 1.2463... Val Loss: 1.2914\n",
            "Epoch: 5/10... Step: 830... Loss: 1.2636... Val Loss: 1.2902\n",
            "Epoch: 5/10... Step: 840... Loss: 1.2611... Val Loss: 1.2854\n",
            "Epoch: 5/10... Step: 850... Loss: 1.2523... Val Loss: 1.2836\n",
            "Epoch: 5/10... Step: 860... Loss: 1.2388... Val Loss: 1.2805\n",
            "Epoch: 5/10... Step: 870... Loss: 1.2259... Val Loss: 1.2740\n",
            "Epoch: 5/10... Step: 880... Loss: 1.2618... Val Loss: 1.2724\n",
            "Epoch: 5/10... Step: 890... Loss: 1.2189... Val Loss: 1.2758\n",
            "Epoch: 5/10... Step: 900... Loss: 1.2315... Val Loss: 1.2825\n",
            "Epoch: 5/10... Step: 910... Loss: 1.2267... Val Loss: 1.2733\n",
            "Epoch: 5/10... Step: 920... Loss: 1.2435... Val Loss: 1.2701\n",
            "Epoch: 5/10... Step: 930... Loss: 1.2381... Val Loss: 1.2647\n",
            "Epoch: 5/10... Step: 940... Loss: 1.2192... Val Loss: 1.2715\n",
            "Epoch: 5/10... Step: 950... Loss: 1.2116... Val Loss: 1.2685\n",
            "Epoch: 5/10... Step: 960... Loss: 1.2393... Val Loss: 1.2588\n",
            "Epoch: 6/10... Step: 970... Loss: 1.1908... Val Loss: 1.2632\n",
            "Epoch: 6/10... Step: 980... Loss: 1.1927... Val Loss: 1.2568\n",
            "Epoch: 6/10... Step: 990... Loss: 1.1988... Val Loss: 1.2526\n",
            "Epoch: 6/10... Step: 1000... Loss: 1.2112... Val Loss: 1.2666\n",
            "Epoch: 6/10... Step: 1010... Loss: 1.2256... Val Loss: 1.2481\n",
            "Epoch: 6/10... Step: 1020... Loss: 1.1814... Val Loss: 1.2466\n",
            "Epoch: 6/10... Step: 1030... Loss: 1.1982... Val Loss: 1.2451\n",
            "Epoch: 6/10... Step: 1040... Loss: 1.2164... Val Loss: 1.2494\n",
            "Epoch: 6/10... Step: 1050... Loss: 1.1735... Val Loss: 1.2396\n",
            "Epoch: 6/10... Step: 1060... Loss: 1.1967... Val Loss: 1.2442\n",
            "Epoch: 6/10... Step: 1070... Loss: 1.1705... Val Loss: 1.2416\n",
            "Epoch: 6/10... Step: 1080... Loss: 1.1792... Val Loss: 1.2425\n",
            "Epoch: 6/10... Step: 1090... Loss: 1.1810... Val Loss: 1.2365\n",
            "Epoch: 6/10... Step: 1100... Loss: 1.1686... Val Loss: 1.2379\n",
            "Epoch: 6/10... Step: 1110... Loss: 1.1625... Val Loss: 1.2399\n",
            "Epoch: 6/10... Step: 1120... Loss: 1.1860... Val Loss: 1.2344\n",
            "Epoch: 6/10... Step: 1130... Loss: 1.1785... Val Loss: 1.2411\n",
            "Epoch: 6/10... Step: 1140... Loss: 1.1915... Val Loss: 1.2427\n",
            "Epoch: 6/10... Step: 1150... Loss: 1.1777... Val Loss: 1.2290\n",
            "Epoch: 7/10... Step: 1160... Loss: 1.2012... Val Loss: 1.2702\n",
            "Epoch: 7/10... Step: 1170... Loss: 1.1850... Val Loss: 1.2427\n",
            "Epoch: 7/10... Step: 1180... Loss: 1.1721... Val Loss: 1.2249\n",
            "Epoch: 7/10... Step: 1190... Loss: 1.1732... Val Loss: 1.2247\n",
            "Epoch: 7/10... Step: 1200... Loss: 1.1732... Val Loss: 1.2234\n",
            "Epoch: 7/10... Step: 1210... Loss: 1.1527... Val Loss: 1.2264\n",
            "Epoch: 7/10... Step: 1220... Loss: 1.1591... Val Loss: 1.2298\n",
            "Epoch: 7/10... Step: 1230... Loss: 1.1666... Val Loss: 1.2222\n",
            "Epoch: 7/10... Step: 1240... Loss: 1.1624... Val Loss: 1.2225\n",
            "Epoch: 7/10... Step: 1250... Loss: 1.1594... Val Loss: 1.2286\n",
            "Epoch: 7/10... Step: 1260... Loss: 1.1321... Val Loss: 1.2227\n",
            "Epoch: 7/10... Step: 1270... Loss: 1.1302... Val Loss: 1.2170\n",
            "Epoch: 7/10... Step: 1280... Loss: 1.1530... Val Loss: 1.2168\n",
            "Epoch: 7/10... Step: 1290... Loss: 1.1318... Val Loss: 1.2168\n",
            "Epoch: 7/10... Step: 1300... Loss: 1.1408... Val Loss: 1.2136\n",
            "Epoch: 7/10... Step: 1310... Loss: 1.1285... Val Loss: 1.2121\n",
            "Epoch: 7/10... Step: 1320... Loss: 1.1556... Val Loss: 1.2177\n",
            "Epoch: 7/10... Step: 1330... Loss: 1.1438... Val Loss: 1.2188\n",
            "Epoch: 7/10... Step: 1340... Loss: 1.1355... Val Loss: 1.2168\n",
            "Epoch: 7/10... Step: 1350... Loss: 1.1625... Val Loss: 1.2090\n",
            "Epoch: 8/10... Step: 1360... Loss: 1.1365... Val Loss: 1.2152\n",
            "Epoch: 8/10... Step: 1370... Loss: 1.1613... Val Loss: 1.2191\n",
            "Epoch: 8/10... Step: 1380... Loss: 1.1365... Val Loss: 1.2170\n",
            "Epoch: 8/10... Step: 1390... Loss: 1.1307... Val Loss: 1.2155\n",
            "Epoch: 8/10... Step: 1400... Loss: 1.1139... Val Loss: 1.2088\n",
            "Epoch: 8/10... Step: 1410... Loss: 1.1329... Val Loss: 1.2040\n",
            "Epoch: 8/10... Step: 1420... Loss: 1.1213... Val Loss: 1.2101\n",
            "Epoch: 8/10... Step: 1430... Loss: 1.1139... Val Loss: 1.2056\n",
            "Epoch: 8/10... Step: 1440... Loss: 1.1092... Val Loss: 1.2152\n",
            "Epoch: 8/10... Step: 1450... Loss: 1.1351... Val Loss: 1.2052\n",
            "Epoch: 8/10... Step: 1460... Loss: 1.1375... Val Loss: 1.2033\n",
            "Epoch: 8/10... Step: 1470... Loss: 1.1402... Val Loss: 1.2066\n",
            "Epoch: 8/10... Step: 1480... Loss: 1.0955... Val Loss: 1.2103\n",
            "Epoch: 8/10... Step: 1490... Loss: 1.1054... Val Loss: 1.2094\n",
            "Epoch: 8/10... Step: 1500... Loss: 1.1194... Val Loss: 1.2078\n",
            "Epoch: 8/10... Step: 1510... Loss: 1.1322... Val Loss: 1.2209\n",
            "Epoch: 8/10... Step: 1520... Loss: 1.1192... Val Loss: 1.2159\n",
            "Epoch: 8/10... Step: 1530... Loss: 1.1216... Val Loss: 1.2072\n",
            "Epoch: 8/10... Step: 1540... Loss: 1.1155... Val Loss: 1.2046\n",
            "Epoch: 9/10... Step: 1550... Loss: 1.0949... Val Loss: 1.2045\n",
            "Epoch: 9/10... Step: 1560... Loss: 1.1122... Val Loss: 1.1987\n",
            "Epoch: 9/10... Step: 1570... Loss: 1.1123... Val Loss: 1.2073\n",
            "Epoch: 9/10... Step: 1580... Loss: 1.1086... Val Loss: 1.2044\n",
            "Epoch: 9/10... Step: 1590... Loss: 1.1085... Val Loss: 1.1954\n",
            "Epoch: 9/10... Step: 1600... Loss: 1.1289... Val Loss: 1.2145\n",
            "Epoch: 9/10... Step: 1610... Loss: 1.0900... Val Loss: 1.1955\n",
            "Epoch: 9/10... Step: 1620... Loss: 1.1010... Val Loss: 1.1975\n",
            "Epoch: 9/10... Step: 1630... Loss: 1.1152... Val Loss: 1.1901\n",
            "Epoch: 9/10... Step: 1640... Loss: 1.1084... Val Loss: 1.1923\n",
            "Epoch: 9/10... Step: 1650... Loss: 1.0923... Val Loss: 1.1888\n",
            "Epoch: 9/10... Step: 1660... Loss: 1.1116... Val Loss: 1.1989\n",
            "Epoch: 9/10... Step: 1670... Loss: 1.0898... Val Loss: 1.1997\n",
            "Epoch: 9/10... Step: 1680... Loss: 1.0952... Val Loss: 1.1936\n",
            "Epoch: 9/10... Step: 1690... Loss: 1.0753... Val Loss: 1.2066\n",
            "Epoch: 9/10... Step: 1700... Loss: 1.0905... Val Loss: 1.2019\n",
            "Epoch: 9/10... Step: 1710... Loss: 1.0799... Val Loss: 1.1925\n",
            "Epoch: 9/10... Step: 1720... Loss: 1.0894... Val Loss: 1.2006\n",
            "Epoch: 9/10... Step: 1730... Loss: 1.1000... Val Loss: 1.1977\n",
            "Epoch: 10/10... Step: 1740... Loss: 1.0788... Val Loss: 1.2009\n",
            "Epoch: 10/10... Step: 1750... Loss: 1.0856... Val Loss: 1.1863\n",
            "Epoch: 10/10... Step: 1760... Loss: 1.0825... Val Loss: 1.1825\n",
            "Epoch: 10/10... Step: 1770... Loss: 1.0671... Val Loss: 1.1845\n",
            "Epoch: 10/10... Step: 1780... Loss: 1.0693... Val Loss: 1.1855\n",
            "Epoch: 10/10... Step: 1790... Loss: 1.0544... Val Loss: 1.1859\n",
            "Epoch: 10/10... Step: 1800... Loss: 1.0855... Val Loss: 1.1829\n",
            "Epoch: 10/10... Step: 1810... Loss: 1.0747... Val Loss: 1.1837\n",
            "Epoch: 10/10... Step: 1820... Loss: 1.1035... Val Loss: 1.1847\n",
            "Epoch: 10/10... Step: 1830... Loss: 1.0599... Val Loss: 1.1858\n",
            "Epoch: 10/10... Step: 1840... Loss: 1.0584... Val Loss: 1.1869\n",
            "Epoch: 10/10... Step: 1850... Loss: 1.0614... Val Loss: 1.1849\n",
            "Epoch: 10/10... Step: 1860... Loss: 1.0638... Val Loss: 1.1818\n",
            "Epoch: 10/10... Step: 1870... Loss: 1.0632... Val Loss: 1.1885\n",
            "Epoch: 10/10... Step: 1880... Loss: 1.0642... Val Loss: 1.1860\n",
            "Epoch: 10/10... Step: 1890... Loss: 1.0639... Val Loss: 1.1919\n",
            "Epoch: 10/10... Step: 1900... Loss: 1.0637... Val Loss: 1.1829\n",
            "Epoch: 10/10... Step: 1910... Loss: 1.0654... Val Loss: 1.1901\n",
            "Epoch: 10/10... Step: 1920... Loss: 1.0843... Val Loss: 1.1844\n",
            "Epoch: 10/10... Step: 1930... Loss: 1.1941... Val Loss: 1.1888\n"
          ]
        }
      ]
    },
    {
      "cell_type": "markdown",
      "metadata": {
        "id": "n-Nqbv1CICR7"
      },
      "source": [
        "##Step 6. Making Predictions"
      ]
    },
    {
      "cell_type": "markdown",
      "metadata": {
        "id": "K2sJhx5iceEm"
      },
      "source": [
        "Now that the model is trained, we want to predict the next character for the sequence of input symbols. We pass a character as input, and the network predicts the next character. Then we take that character, pass it as input, and get another predicted character, and so on.\n",
        "\n",
        "### Details of a `predict`  function\n",
        "\n",
        "Our RNN's output comes from a fully connected layer and outputs the **distribution of the next character scores**. To actually get the next character, we use the softmax function, which gives us a **probability** distribution that we can then choose to predict the next character.\n",
        "\n",
        "**Top K sampling**\n",
        "\n",
        "Our predictions are based on a categorical distribution of probabilities for all possible characters. We can make the sampling process smarter by looking at only some of the most likely $K$ characters. This will prevent the network from giving us completely absurd characters, and will also allow some noise and randomness to be introduced into the selected text. This technique is called [top K](https://pytorch.org/docs/stable/generated/torch.topk.html#torch.topk) sampling."
      ]
    },
    {
      "cell_type": "code",
      "metadata": {
        "id": "QEIRW_B2ceEm"
      },
      "source": [
        "def predict(net, char, h=None, top_k=None):\n",
        "        ''' Given a character, predict the next character.\n",
        "            Returns the predicted character and the hidden state.\n",
        "        '''\n",
        "        \n",
        "        # tensor inputs\n",
        "        x = np.array([[net.char2int[char]]])\n",
        "        x = one_hot_encode(x, len(net.chars))\n",
        "        inputs = torch.from_numpy(x) #.float()\n",
        "        \n",
        "        if(train_on_gpu):\n",
        "            inputs = inputs.cuda()\n",
        "        \n",
        "        # detach hidden state from history\n",
        "        h = tuple([each.data for each in h])\n",
        "        # get the output of the model\n",
        "        out, h = net(inputs, h)\n",
        "\n",
        "        # get the character probabilities\n",
        "        p = F.softmax(out, dim=1).data\n",
        "        if(train_on_gpu):\n",
        "            p = p.cpu() # move to cpu\n",
        "        \n",
        "        # get top characters\n",
        "        if top_k is None:\n",
        "            top_ch = np.arange(len(net.chars))\n",
        "        else:\n",
        "            p, top_ch = p.topk(top_k)\n",
        "            top_ch = top_ch.numpy().squeeze()\n",
        "        \n",
        "        # select the likely next character with some element of randomness\n",
        "        p = p.numpy().squeeze()\n",
        "        char = np.random.choice(top_ch, p=p/p.sum())\n",
        "        \n",
        "        # return the encoded value of the predicted char and the hidden state\n",
        "        return net.int2char[char], h"
      ],
      "execution_count": 45,
      "outputs": []
    },
    {
      "cell_type": "markdown",
      "metadata": {
        "id": "OG38j3gQceEm"
      },
      "source": [
        "To generate the text, you need to feed the initial characters, let's call them `prime`."
      ]
    },
    {
      "cell_type": "code",
      "metadata": {
        "id": "P9vpB5gRceEm"
      },
      "source": [
        "def sample(net, size, prime='The', top_k=None):\n",
        "        \n",
        "    if(train_on_gpu):\n",
        "        net.cuda()\n",
        "    else:\n",
        "        net.cpu()\n",
        "    \n",
        "    net.eval() # eval mode\n",
        "    \n",
        "    # First off, run through the prime characters\n",
        "    chars = [ch for ch in prime]\n",
        "    h = net.init_hidden(1)\n",
        "    for ch in prime:\n",
        "        char, h = predict(net, ch, h, top_k=top_k)\n",
        "\n",
        "    chars.append(char)\n",
        "    \n",
        "    # Now pass in the previous character and get a new one\n",
        "    for ii in range(size):\n",
        "        char, h = predict(net, chars[-1], h, top_k=top_k)\n",
        "        chars.append(char)\n",
        "\n",
        "    return ''.join(chars)"
      ],
      "execution_count": 46,
      "outputs": []
    },
    {
      "cell_type": "code",
      "metadata": {
        "id": "BqmFA9eEceEm",
        "colab": {
          "base_uri": "https://localhost:8080/"
        },
        "outputId": "b41b15ad-5e7a-4420-b80a-a206f44c9c05"
      },
      "source": [
        "print(sample(net, 1000, prime='Anna', top_k=5))"
      ],
      "execution_count": 47,
      "outputs": [
        {
          "output_type": "stream",
          "name": "stdout",
          "text": [
            "Anna Mikháylovna.\n",
            "Something changed that they are with any honorable and south\n",
            "of all the same there has to change it. Having forgotten the servants, then also\n",
            "with his head in the difference with the first people on the enemy’s polental friend, or\n",
            "watched this. And he ago the category was\n",
            "also forgivened than ever a long battlify, as the study they wished to\n",
            "be an enormous personal tenth from the first time in which they were an importance\n",
            "of artillery and or always before, and a famous which always\n",
            "surrounded his spiritual forces and their presence an old men or\n",
            "which where has been carriaded at that moment intorestion. He had a state\n",
            "of has consciousness the state of artificiality of wishes to set out the rustle of a company.\n",
            "\n",
            "“It will be superined for a moment. You’ll do the same from him. To be delightful.”\n",
            "\n",
            "“Yes, yes, ask their hands and don’t want to keep one. He saw the path to supper\n",
            "and she’s being driving to see them all....”\n",
            "\n",
            "He was sitting beside him, and the count those animat\n"
          ]
        }
      ]
    },
    {
      "cell_type": "code",
      "metadata": {
        "id": "TH1ag4h1ceEm"
      },
      "source": [
        ""
      ],
      "execution_count": 41,
      "outputs": []
    }
  ]
}